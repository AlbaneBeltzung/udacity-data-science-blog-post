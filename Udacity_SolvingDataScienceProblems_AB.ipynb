{
 "cells": [
  {
   "cell_type": "markdown",
   "metadata": {},
   "source": [
    "# Udacity: Solving Data Science Problems\n",
    "## A jupyter notebook for investigating te Stackoverflow database"
   ]
  },
  {
   "cell_type": "markdown",
   "metadata": {},
   "source": [
    "## IMPORTS"
   ]
  },
  {
   "cell_type": "code",
   "execution_count": 127,
   "metadata": {},
   "outputs": [],
   "source": [
    "import pandas as pd\n",
    "import numpy as np\n",
    "import matplotlib.pyplot as plt\n",
    "import seaborn as sns"
   ]
  },
  {
   "cell_type": "markdown",
   "metadata": {},
   "source": [
    "## GATHERING DATA"
   ]
  },
  {
   "cell_type": "code",
   "execution_count": 129,
   "metadata": {},
   "outputs": [],
   "source": [
    "df = pd.read_csv(\"survey_results_public.csv\")"
   ]
  },
  {
   "cell_type": "markdown",
   "metadata": {},
   "source": [
    "## ASSESSING DATA"
   ]
  },
  {
   "cell_type": "code",
   "execution_count": 130,
   "metadata": {},
   "outputs": [
    {
     "data": {
      "text/html": [
       "<div>\n",
       "<style scoped>\n",
       "    .dataframe tbody tr th:only-of-type {\n",
       "        vertical-align: middle;\n",
       "    }\n",
       "\n",
       "    .dataframe tbody tr th {\n",
       "        vertical-align: top;\n",
       "    }\n",
       "\n",
       "    .dataframe thead th {\n",
       "        text-align: right;\n",
       "    }\n",
       "</style>\n",
       "<table border=\"1\" class=\"dataframe\">\n",
       "  <thead>\n",
       "    <tr style=\"text-align: right;\">\n",
       "      <th></th>\n",
       "      <th>Respondent</th>\n",
       "      <th>Professional</th>\n",
       "      <th>ProgramHobby</th>\n",
       "      <th>Country</th>\n",
       "      <th>University</th>\n",
       "      <th>EmploymentStatus</th>\n",
       "      <th>FormalEducation</th>\n",
       "      <th>MajorUndergrad</th>\n",
       "      <th>HomeRemote</th>\n",
       "      <th>CompanySize</th>\n",
       "      <th>...</th>\n",
       "      <th>StackOverflowMakeMoney</th>\n",
       "      <th>Gender</th>\n",
       "      <th>HighestEducationParents</th>\n",
       "      <th>Race</th>\n",
       "      <th>SurveyLong</th>\n",
       "      <th>QuestionsInteresting</th>\n",
       "      <th>QuestionsConfusing</th>\n",
       "      <th>InterestedAnswers</th>\n",
       "      <th>Salary</th>\n",
       "      <th>ExpectedSalary</th>\n",
       "    </tr>\n",
       "  </thead>\n",
       "  <tbody>\n",
       "    <tr>\n",
       "      <th>0</th>\n",
       "      <td>1</td>\n",
       "      <td>Student</td>\n",
       "      <td>Yes, both</td>\n",
       "      <td>United States</td>\n",
       "      <td>No</td>\n",
       "      <td>Not employed, and not looking for work</td>\n",
       "      <td>Secondary school</td>\n",
       "      <td>NaN</td>\n",
       "      <td>NaN</td>\n",
       "      <td>NaN</td>\n",
       "      <td>...</td>\n",
       "      <td>Strongly disagree</td>\n",
       "      <td>Male</td>\n",
       "      <td>High school</td>\n",
       "      <td>White or of European descent</td>\n",
       "      <td>Strongly disagree</td>\n",
       "      <td>Strongly agree</td>\n",
       "      <td>Disagree</td>\n",
       "      <td>Strongly agree</td>\n",
       "      <td>NaN</td>\n",
       "      <td>NaN</td>\n",
       "    </tr>\n",
       "    <tr>\n",
       "      <th>1</th>\n",
       "      <td>2</td>\n",
       "      <td>Student</td>\n",
       "      <td>Yes, both</td>\n",
       "      <td>United Kingdom</td>\n",
       "      <td>Yes, full-time</td>\n",
       "      <td>Employed part-time</td>\n",
       "      <td>Some college/university study without earning ...</td>\n",
       "      <td>Computer science or software engineering</td>\n",
       "      <td>More than half, but not all, the time</td>\n",
       "      <td>20 to 99 employees</td>\n",
       "      <td>...</td>\n",
       "      <td>Strongly disagree</td>\n",
       "      <td>Male</td>\n",
       "      <td>A master's degree</td>\n",
       "      <td>White or of European descent</td>\n",
       "      <td>Somewhat agree</td>\n",
       "      <td>Somewhat agree</td>\n",
       "      <td>Disagree</td>\n",
       "      <td>Strongly agree</td>\n",
       "      <td>NaN</td>\n",
       "      <td>37500.0</td>\n",
       "    </tr>\n",
       "    <tr>\n",
       "      <th>2</th>\n",
       "      <td>3</td>\n",
       "      <td>Professional developer</td>\n",
       "      <td>Yes, both</td>\n",
       "      <td>United Kingdom</td>\n",
       "      <td>No</td>\n",
       "      <td>Employed full-time</td>\n",
       "      <td>Bachelor's degree</td>\n",
       "      <td>Computer science or software engineering</td>\n",
       "      <td>Less than half the time, but at least one day ...</td>\n",
       "      <td>10,000 or more employees</td>\n",
       "      <td>...</td>\n",
       "      <td>Disagree</td>\n",
       "      <td>Male</td>\n",
       "      <td>A professional degree</td>\n",
       "      <td>White or of European descent</td>\n",
       "      <td>Somewhat agree</td>\n",
       "      <td>Agree</td>\n",
       "      <td>Disagree</td>\n",
       "      <td>Agree</td>\n",
       "      <td>113750.0</td>\n",
       "      <td>NaN</td>\n",
       "    </tr>\n",
       "    <tr>\n",
       "      <th>3</th>\n",
       "      <td>4</td>\n",
       "      <td>Professional non-developer who sometimes write...</td>\n",
       "      <td>Yes, both</td>\n",
       "      <td>United States</td>\n",
       "      <td>No</td>\n",
       "      <td>Employed full-time</td>\n",
       "      <td>Doctoral degree</td>\n",
       "      <td>A non-computer-focused engineering discipline</td>\n",
       "      <td>Less than half the time, but at least one day ...</td>\n",
       "      <td>10,000 or more employees</td>\n",
       "      <td>...</td>\n",
       "      <td>Disagree</td>\n",
       "      <td>Male</td>\n",
       "      <td>A doctoral degree</td>\n",
       "      <td>White or of European descent</td>\n",
       "      <td>Agree</td>\n",
       "      <td>Agree</td>\n",
       "      <td>Somewhat agree</td>\n",
       "      <td>Strongly agree</td>\n",
       "      <td>NaN</td>\n",
       "      <td>NaN</td>\n",
       "    </tr>\n",
       "    <tr>\n",
       "      <th>4</th>\n",
       "      <td>5</td>\n",
       "      <td>Professional developer</td>\n",
       "      <td>Yes, I program as a hobby</td>\n",
       "      <td>Switzerland</td>\n",
       "      <td>No</td>\n",
       "      <td>Employed full-time</td>\n",
       "      <td>Master's degree</td>\n",
       "      <td>Computer science or software engineering</td>\n",
       "      <td>Never</td>\n",
       "      <td>10 to 19 employees</td>\n",
       "      <td>...</td>\n",
       "      <td>NaN</td>\n",
       "      <td>NaN</td>\n",
       "      <td>NaN</td>\n",
       "      <td>NaN</td>\n",
       "      <td>NaN</td>\n",
       "      <td>NaN</td>\n",
       "      <td>NaN</td>\n",
       "      <td>NaN</td>\n",
       "      <td>NaN</td>\n",
       "      <td>NaN</td>\n",
       "    </tr>\n",
       "  </tbody>\n",
       "</table>\n",
       "<p>5 rows × 154 columns</p>\n",
       "</div>"
      ],
      "text/plain": [
       "   Respondent                                       Professional  \\\n",
       "0           1                                            Student   \n",
       "1           2                                            Student   \n",
       "2           3                             Professional developer   \n",
       "3           4  Professional non-developer who sometimes write...   \n",
       "4           5                             Professional developer   \n",
       "\n",
       "                ProgramHobby         Country      University  \\\n",
       "0                  Yes, both   United States              No   \n",
       "1                  Yes, both  United Kingdom  Yes, full-time   \n",
       "2                  Yes, both  United Kingdom              No   \n",
       "3                  Yes, both   United States              No   \n",
       "4  Yes, I program as a hobby     Switzerland              No   \n",
       "\n",
       "                         EmploymentStatus  \\\n",
       "0  Not employed, and not looking for work   \n",
       "1                      Employed part-time   \n",
       "2                      Employed full-time   \n",
       "3                      Employed full-time   \n",
       "4                      Employed full-time   \n",
       "\n",
       "                                     FormalEducation  \\\n",
       "0                                   Secondary school   \n",
       "1  Some college/university study without earning ...   \n",
       "2                                  Bachelor's degree   \n",
       "3                                    Doctoral degree   \n",
       "4                                    Master's degree   \n",
       "\n",
       "                                  MajorUndergrad  \\\n",
       "0                                            NaN   \n",
       "1       Computer science or software engineering   \n",
       "2       Computer science or software engineering   \n",
       "3  A non-computer-focused engineering discipline   \n",
       "4       Computer science or software engineering   \n",
       "\n",
       "                                          HomeRemote  \\\n",
       "0                                                NaN   \n",
       "1              More than half, but not all, the time   \n",
       "2  Less than half the time, but at least one day ...   \n",
       "3  Less than half the time, but at least one day ...   \n",
       "4                                              Never   \n",
       "\n",
       "                CompanySize  ... StackOverflowMakeMoney Gender  \\\n",
       "0                       NaN  ...      Strongly disagree   Male   \n",
       "1        20 to 99 employees  ...      Strongly disagree   Male   \n",
       "2  10,000 or more employees  ...               Disagree   Male   \n",
       "3  10,000 or more employees  ...               Disagree   Male   \n",
       "4        10 to 19 employees  ...                    NaN    NaN   \n",
       "\n",
       "  HighestEducationParents                          Race         SurveyLong  \\\n",
       "0             High school  White or of European descent  Strongly disagree   \n",
       "1       A master's degree  White or of European descent     Somewhat agree   \n",
       "2   A professional degree  White or of European descent     Somewhat agree   \n",
       "3       A doctoral degree  White or of European descent              Agree   \n",
       "4                     NaN                           NaN                NaN   \n",
       "\n",
       "  QuestionsInteresting QuestionsConfusing InterestedAnswers    Salary  \\\n",
       "0       Strongly agree           Disagree    Strongly agree       NaN   \n",
       "1       Somewhat agree           Disagree    Strongly agree       NaN   \n",
       "2                Agree           Disagree             Agree  113750.0   \n",
       "3                Agree     Somewhat agree    Strongly agree       NaN   \n",
       "4                  NaN                NaN               NaN       NaN   \n",
       "\n",
       "   ExpectedSalary  \n",
       "0             NaN  \n",
       "1         37500.0  \n",
       "2             NaN  \n",
       "3             NaN  \n",
       "4             NaN  \n",
       "\n",
       "[5 rows x 154 columns]"
      ]
     },
     "execution_count": 130,
     "metadata": {},
     "output_type": "execute_result"
    }
   ],
   "source": [
    "df.head()"
   ]
  },
  {
   "cell_type": "markdown",
   "metadata": {},
   "source": [
    "## CLEAN DATA"
   ]
  },
  {
   "cell_type": "markdown",
   "metadata": {},
   "source": [
    "Requirements: Select relevant attributes only and filter for the meaningful entries from the survey for each and every question.\n",
    "\n",
    "* Selecting columns of interest for analysis\n",
    "* Filter where PronounceGIF is not NULL so have statistical relevancy\n",
    "* Summarize the PronounceGIF attribute in three categories: Hard G, Soft G, Other\n",
    "* Add new attribute flagging european countries\n",
    "* Add new attribute to define the underlying language family for european countries\n"
   ]
  },
  {
   "cell_type": "code",
   "execution_count": 142,
   "metadata": {},
   "outputs": [],
   "source": [
    "# Filter for PronounceGIF is not NULL and filter for specific columns\n",
    "columns = ['Respondent', 'Country', 'PronounceGIF']\n",
    "data = df[df['PronounceGIF'].notna() == True]\n",
    "data = data.filter(columns)"
   ]
  },
  {
   "cell_type": "code",
   "execution_count": 143,
   "metadata": {},
   "outputs": [],
   "source": [
    "# Summarize the PronounceGIF attribute in three categories: Hard G, Soft G, Other\n",
    "data['PronounceGIF'] = data['PronounceGIF'].apply(lambda x: \n",
    "    'Hard G like \"gift\"' if x == 'With a hard \"g,\" like \"gift\"' else\n",
    "    'Soft G like \"jiff\"' if x == 'With a soft \"g,\" like \"jiff\"' else 'Other')"
   ]
  },
  {
   "cell_type": "code",
   "execution_count": 144,
   "metadata": {},
   "outputs": [],
   "source": [
    "# Flagging European countries\n",
    "# Split European countries to their Indo-European language family based on https://en.wikipedia.org/wiki/Indo-European_languages and https://www.theguardian.com/education/gallery/2015/jan/23/a-language-family-tree-in-pictures\n",
    "# In order to facilitate the mapping for countries with many official langugages, picking the most used one for the language family grouping\n",
    "\n",
    "germanic = ['Denmark', 'Sweden', 'Norway', 'Iceland', 'Netherlands', 'Scotland', 'United Kingdom', 'Switzerland', 'Luxembourg', 'Germany', 'Austria', 'Liechtenstein', ]\n",
    "hellenic = ['Greece', 'Cyprus']\n",
    "armenian = ['Armenia']\n",
    "romance = ['France', 'Italy', 'Spain', 'Portugal', 'Romania', 'Malta', 'Belgium', 'Moldavia', 'Gibraltar']\n",
    "baltic = ['Latvia', 'Lithuania']\n",
    "slavic = ['Belarus', 'Russian Federation', 'Ukraine', 'Slovak Republic', 'Poland', 'Czech Republic', 'Croatia', 'Serbia', 'Bulgaria', 'Macedonia', 'Bosnia-Herzegovina', 'Slovenia', 'Montenegro']\n",
    "albanian = ['Albania']\n",
    "celtic = ['Ireland', 'Welsh']\n",
    "uralic = ['Finland', 'Hungary', 'Estonia']\n",
    "caucasian = ['Georgia', ]\n",
    "altaic = ['Turkey']\n",
    "european_countries = germanic + hellenic + armenian + romance + baltic + slavic + albanian + celtic + uralic + caucasian + altaic\n",
    "\n",
    "data['is_european_country'] = data['Country'].apply(lambda x: True if x in european_countries else False)\n",
    "data['european_language_family'] = data['Country'].apply(lambda x: \n",
    "    \"germanic\" if x in germanic else\n",
    "    \"hellenic\" if x in hellenic else\n",
    "    \"armenian\" if x in armenian else\n",
    "    \"italic romance\" if x in romance else\n",
    "    \"baltic\" if x in baltic else\n",
    "    \"slavic\" if x in slavic else\n",
    "    \"albanian\" if x in albanian else \n",
    "    \"celtic\" if x in celtic else\n",
    "    \"uralic\" if x in uralic else\n",
    "    \"caucasian\" if x in caucasian else\n",
    "    \"altaic\" if x in altaic else \"other\")\n"
   ]
  },
  {
   "cell_type": "markdown",
   "metadata": {},
   "source": [
    "## TEST"
   ]
  },
  {
   "cell_type": "code",
   "execution_count": 145,
   "metadata": {},
   "outputs": [
    {
     "data": {
      "text/html": [
       "<div>\n",
       "<style scoped>\n",
       "    .dataframe tbody tr th:only-of-type {\n",
       "        vertical-align: middle;\n",
       "    }\n",
       "\n",
       "    .dataframe tbody tr th {\n",
       "        vertical-align: top;\n",
       "    }\n",
       "\n",
       "    .dataframe thead th {\n",
       "        text-align: right;\n",
       "    }\n",
       "</style>\n",
       "<table border=\"1\" class=\"dataframe\">\n",
       "  <thead>\n",
       "    <tr style=\"text-align: right;\">\n",
       "      <th></th>\n",
       "      <th>Respondent</th>\n",
       "      <th>Country</th>\n",
       "      <th>PronounceGIF</th>\n",
       "      <th>is_european_country</th>\n",
       "      <th>european_language_family</th>\n",
       "    </tr>\n",
       "  </thead>\n",
       "  <tbody>\n",
       "    <tr>\n",
       "      <th>0</th>\n",
       "      <td>1</td>\n",
       "      <td>United States</td>\n",
       "      <td>Soft G like \"jiff\"</td>\n",
       "      <td>False</td>\n",
       "      <td>other</td>\n",
       "    </tr>\n",
       "    <tr>\n",
       "      <th>1</th>\n",
       "      <td>2</td>\n",
       "      <td>United Kingdom</td>\n",
       "      <td>Hard G like \"gift\"</td>\n",
       "      <td>True</td>\n",
       "      <td>germanic</td>\n",
       "    </tr>\n",
       "    <tr>\n",
       "      <th>2</th>\n",
       "      <td>3</td>\n",
       "      <td>United Kingdom</td>\n",
       "      <td>Hard G like \"gift\"</td>\n",
       "      <td>True</td>\n",
       "      <td>germanic</td>\n",
       "    </tr>\n",
       "    <tr>\n",
       "      <th>3</th>\n",
       "      <td>4</td>\n",
       "      <td>United States</td>\n",
       "      <td>Soft G like \"jiff\"</td>\n",
       "      <td>False</td>\n",
       "      <td>other</td>\n",
       "    </tr>\n",
       "    <tr>\n",
       "      <th>4</th>\n",
       "      <td>5</td>\n",
       "      <td>Switzerland</td>\n",
       "      <td>Soft G like \"jiff\"</td>\n",
       "      <td>True</td>\n",
       "      <td>germanic</td>\n",
       "    </tr>\n",
       "    <tr>\n",
       "      <th>5</th>\n",
       "      <td>6</td>\n",
       "      <td>New Zealand</td>\n",
       "      <td>Hard G like \"gift\"</td>\n",
       "      <td>False</td>\n",
       "      <td>other</td>\n",
       "    </tr>\n",
       "    <tr>\n",
       "      <th>6</th>\n",
       "      <td>7</td>\n",
       "      <td>United States</td>\n",
       "      <td>Hard G like \"gift\"</td>\n",
       "      <td>False</td>\n",
       "      <td>other</td>\n",
       "    </tr>\n",
       "    <tr>\n",
       "      <th>7</th>\n",
       "      <td>8</td>\n",
       "      <td>Poland</td>\n",
       "      <td>Hard G like \"gift\"</td>\n",
       "      <td>True</td>\n",
       "      <td>slavic</td>\n",
       "    </tr>\n",
       "    <tr>\n",
       "      <th>8</th>\n",
       "      <td>9</td>\n",
       "      <td>Colombia</td>\n",
       "      <td>Hard G like \"gift\"</td>\n",
       "      <td>False</td>\n",
       "      <td>other</td>\n",
       "    </tr>\n",
       "    <tr>\n",
       "      <th>9</th>\n",
       "      <td>10</td>\n",
       "      <td>France</td>\n",
       "      <td>Soft G like \"jiff\"</td>\n",
       "      <td>True</td>\n",
       "      <td>italic romance</td>\n",
       "    </tr>\n",
       "  </tbody>\n",
       "</table>\n",
       "</div>"
      ],
      "text/plain": [
       "   Respondent         Country        PronounceGIF  is_european_country  \\\n",
       "0           1   United States  Soft G like \"jiff\"                False   \n",
       "1           2  United Kingdom  Hard G like \"gift\"                 True   \n",
       "2           3  United Kingdom  Hard G like \"gift\"                 True   \n",
       "3           4   United States  Soft G like \"jiff\"                False   \n",
       "4           5     Switzerland  Soft G like \"jiff\"                 True   \n",
       "5           6     New Zealand  Hard G like \"gift\"                False   \n",
       "6           7   United States  Hard G like \"gift\"                False   \n",
       "7           8          Poland  Hard G like \"gift\"                 True   \n",
       "8           9        Colombia  Hard G like \"gift\"                False   \n",
       "9          10          France  Soft G like \"jiff\"                 True   \n",
       "\n",
       "  european_language_family  \n",
       "0                    other  \n",
       "1                 germanic  \n",
       "2                 germanic  \n",
       "3                    other  \n",
       "4                 germanic  \n",
       "5                    other  \n",
       "6                    other  \n",
       "7                   slavic  \n",
       "8                    other  \n",
       "9           italic romance  "
      ]
     },
     "execution_count": 145,
     "metadata": {},
     "output_type": "execute_result"
    }
   ],
   "source": [
    "data.head(10)"
   ]
  },
  {
   "cell_type": "markdown",
   "metadata": {},
   "source": [
    "## ANALYZE AND VISUALIZE"
   ]
  },
  {
   "cell_type": "markdown",
   "metadata": {},
   "source": [
    "#### 1) What's the globally preferred way to pronounce .GIF"
   ]
  },
  {
   "cell_type": "code",
   "execution_count": 146,
   "metadata": {},
   "outputs": [
    {
     "name": "stdout",
     "output_type": "stream",
     "text": [
      "Total records: 51008\n",
      "Pronounciation = 'Hard G': 33484\n",
      "Pronounciation = 'Soft G': 13408\n",
      "Pronounciation = 'Other': 4116\n"
     ]
    },
    {
     "data": {
      "text/plain": [
       "<AxesSubplot:>"
      ]
     },
     "execution_count": 146,
     "metadata": {},
     "output_type": "execute_result"
    },
    {
     "data": {
      "image/png": "[encoded data removed]",
      "text/plain": [
       "<Figure size 1440x576 with 1 Axes>"
      ]
     },
     "metadata": {},
     "output_type": "display_data"
    }
   ],
   "source": [
    "data_gif_vs_jif = data[['PronounceGIF']]\n",
    "\n",
    "print(\"Total records:\", data_gif_vs_jif.shape[0])\n",
    "print(\"Pronounciation = 'Hard G':\", data_gif_vs_jif[data_gif_vs_jif['PronounceGIF'] == 'Hard G like \"gift\"'].shape[0])\n",
    "print(\"Pronounciation = 'Soft G':\", data_gif_vs_jif[data_gif_vs_jif['PronounceGIF'] == 'Soft G like \"jiff\"'].shape[0])\n",
    "print(\"Pronounciation = 'Other':\", data_gif_vs_jif[data_gif_vs_jif['PronounceGIF'] == 'Other'].shape[0])\n",
    "\n",
    "data_gif_vs_jif.PronounceGIF.hist()\n"
   ]
  },
  {
   "cell_type": "markdown",
   "metadata": {},
   "source": [
    "We can clearly see that globally, it's the most correct to pronounce the .GIF data type with a hard G like \"gift\". However, I'm asking myself if the underlying langugage family could be linked to differences. In order to review a multitude of different branches of the language tree, we'll be filtering for european records only. "
   ]
  },
  {
   "cell_type": "markdown",
   "metadata": {},
   "source": [
    "#### 2) How do different branches of the indo-european languages pronounce .GIF?"
   ]
  },
  {
   "cell_type": "code",
   "execution_count": 147,
   "metadata": {},
   "outputs": [],
   "source": [
    "# Filter for is_european_country = True to keep only european comments\n",
    "data = data[data['is_european_country'] == True]"
   ]
  },
  {
   "cell_type": "code",
   "execution_count": 148,
   "metadata": {},
   "outputs": [
    {
     "name": "stdout",
     "output_type": "stream",
     "text": [
      "Total records: 22774\n",
      "European pronounciation = 'Hard G': 17922\n",
      "European pronounciation = 'Soft G': 4079\n",
      "European pronounciation = 'Other': 773\n"
     ]
    },
    {
     "data": {
      "text/plain": [
       "<AxesSubplot:>"
      ]
     },
     "execution_count": 148,
     "metadata": {},
     "output_type": "execute_result"
    },
    {
     "data": {
      "image/png": "[encoded data removed]",
      "text/plain": [
       "<Figure size 1440x576 with 1 Axes>"
      ]
     },
     "metadata": {},
     "output_type": "display_data"
    }
   ],
   "source": [
    "data_europe_gif_vs_jif = data[['PronounceGIF']]\n",
    "\n",
    "print(\"Total records:\", data_europe_gif_vs_jif.shape[0])\n",
    "print(\"European pronounciation = 'Hard G':\", data_europe_gif_vs_jif[data_europe_gif_vs_jif['PronounceGIF'] == 'Hard G like \"gift\"'].shape[0])\n",
    "print(\"European pronounciation = 'Soft G':\", data_europe_gif_vs_jif[data_europe_gif_vs_jif['PronounceGIF'] == 'Soft G like \"jiff\"'].shape[0])\n",
    "print(\"European pronounciation = 'Other':\", data_europe_gif_vs_jif[data_europe_gif_vs_jif['PronounceGIF'] == 'Other'].shape[0])\n",
    "\n",
    "data_europe_gif_vs_jif.PronounceGIF.hist()"
   ]
  },
  {
   "cell_type": "code",
   "execution_count": 149,
   "metadata": {},
   "outputs": [
    {
     "data": {
      "text/plain": [
       "Text(0.5, 1.0, 'GIF pronounciation per European language family')"
      ]
     },
     "execution_count": 149,
     "metadata": {},
     "output_type": "execute_result"
    },
    {
     "data": {
      "image/png": "[encoded data removed]",
      "text/plain": [
       "<Figure size 1440x576 with 1 Axes>"
      ]
     },
     "metadata": {},
     "output_type": "display_data"
    }
   ],
   "source": [
    "\n",
    "\n",
    "# Plotting how each of the european language families pronounce GIF\n",
    "language_ponounciation = data.groupby(['european_language_family','PronounceGIF'])['Respondent'].count().reset_index()\n",
    "sns.set(rc = {'figure.figsize':(20,8)})\n",
    "sns.barplot(x = 'european_language_family', y = 'Respondent', hue = 'PronounceGIF', data = language_ponounciation)\n",
    "plt.title('GIF pronounciation per European language family')\n"
   ]
  },
  {
   "cell_type": "markdown",
   "metadata": {},
   "source": [
    "The graph shows that pronouncing .GIF with a hard G is the most common way in Europe. Having said that we can identify that that germanic but most importantly italic romance language families tend to also use .GIF with a soft G. This can be explainable based on a specific language current pronounciation rules. In the French language, it would make sense the users use a  soft G pronounciation instinctively. It's common that a \"g\" follower by an \"i\" is being softened. For a hard G, it would require a \"g\" followed by an \"u\" and then an \"i\". Examples:\n",
    "\n",
    "Soft G: Giffle \n",
    "\n",
    "Hard G: Guitarre \n",
    "\n",
    "For this reason I would like to investigate the italic romance survey results specifically. "
   ]
  },
  {
   "cell_type": "markdown",
   "metadata": {},
   "source": [
    "#### 3) How do italic romance dominant countries pronounce .GIF?"
   ]
  },
  {
   "cell_type": "code",
   "execution_count": 141,
   "metadata": {},
   "outputs": [
    {
     "data": {
      "text/plain": [
       "Text(0.5, 1.0, 'GIF pronounciation per italic-romance language family prominent countries')"
      ]
     },
     "execution_count": 141,
     "metadata": {},
     "output_type": "execute_result"
    },
    {
     "data": {
      "image/png": "[encoded data removed]",
      "text/plain": [
       "<Figure size 1440x576 with 1 Axes>"
      ]
     },
     "metadata": {},
     "output_type": "display_data"
    }
   ],
   "source": [
    "# Filtering for italic-romance languagge family\n",
    "data_romance = data[data['european_language_family'] == \"italic romance\"]\n",
    "\n",
    "data_romance.head(5)\n",
    "\n",
    "romance_language_ponounciation = data_romance.groupby(['Country','PronounceGIF'])['Respondent'].count().reset_index()\n",
    "sns.set(rc = {'figure.figsize':(20,8)})\n",
    "sns.barplot(x = 'Country', y = 'Respondent', hue = 'PronounceGIF', data = romance_language_ponounciation)\n",
    "plt.title('GIF pronounciation per italic-romance language family prominent countries')\n"
   ]
  },
  {
   "cell_type": "markdown",
   "metadata": {},
   "source": [
    "As expected, most countries with an own developed latin language tend to pronounce GIF with a soft G. Above graph shows that undeniably gallo-iberian (France), italo-dalmatian (Italy, Malta) and Romania. \n",
    "\n",
    "Same observation does not sustain for ibero-romance languages (Portugal, Spain). Left is Belgium, Moldavia and Gibraltar. \n",
    "\n",
    "These results may suggests that Belgium has been misclassified. For example Belgium could be a better fit for the Germanic group by following the franconian language subfamily with Afrikaans, Dutch and Flemish instead of the imposed French language. \n",
    "\n",
    "Moldavia has also been correctly classified to the romance language family according to Wikipedia (https://en.wikipedia.org/wiki/Moldovan_language). With it's big influence of slavic language family, it could count as an outlier.\n",
    "\n",
    "For Gibraltar too little information is captured to be able to make an appropriate suggestion.\n",
    "\n",
    "Generally, the most accepted way to pronounce .GIF globally is with a hahrd G. Same count for the whohle european continent. However, If someone would be european and pronouncing a soft G, it's very likely this individual uses a italic-romance language, especially out of the gallo-iberian or italo-dalmatian sub-family. "
   ]
  }
 ],
 "metadata": {
  "interpreter": {
   "hash": "ee5fed5aec8fe1d95b6b0840d07dc3fa3e6e582704ef9f87f2ee16a41ceaae7e"
  },
  "kernelspec": {
   "display_name": "Python 3.9.7 ('base')",
   "language": "python",
   "name": "python3"
  },
  "language_info": {
   "codemirror_mode": {
    "name": "ipython",
    "version": 3
   },
   "file_extension": ".py",
   "mimetype": "text/x-python",
   "name": "python",
   "nbconvert_exporter": "python",
   "pygments_lexer": "ipython3",
   "version": "3.9.7"
  },
  "orig_nbformat": 4
 },
 "nbformat": 4,
 "nbformat_minor": 2
}
